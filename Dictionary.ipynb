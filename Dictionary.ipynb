{
  "nbformat": 4,
  "nbformat_minor": 0,
  "metadata": {
    "colab": {
      "provenance": []
    },
    "kernelspec": {
      "name": "python3",
      "display_name": "Python 3"
    },
    "language_info": {
      "name": "python"
    }
  },
  "cells": [
    {
      "cell_type": "code",
      "execution_count": null,
      "metadata": {
        "colab": {
          "base_uri": "https://localhost:8080/"
        },
        "id": "ywhnJ2QmI1hx",
        "outputId": "6cc1bf8c-dcba-4dc3-fccf-30c29b453b33"
      },
      "outputs": [
        {
          "output_type": "stream",
          "name": "stdout",
          "text": [
            "{}\n"
          ]
        }
      ],
      "source": [
        "dic={}\n",
        "print(dic)"
      ]
    },
    {
      "cell_type": "code",
      "source": [
        "dic={1:\"Focus\",2:\"Academy\",3:\"for\",4:\"Career\",5:\"Enhancement\"}\n",
        "print(dic)"
      ],
      "metadata": {
        "colab": {
          "base_uri": "https://localhost:8080/"
        },
        "id": "IYS7xzFPJQGV",
        "outputId": "37972da5-bfc2-4870-eb31-2f70c5909313"
      },
      "execution_count": null,
      "outputs": [
        {
          "output_type": "stream",
          "name": "stdout",
          "text": [
            "{1: 'Focus', 2: 'Academy', 3: 'for', 4: 'Career', 5: 'Enhancement'}\n"
          ]
        }
      ]
    },
    {
      "cell_type": "code",
      "source": [
        "dic={1:(2,4,5),\"Name\":\"Face\",4:[5,7]}\n",
        "print(dic)"
      ],
      "metadata": {
        "colab": {
          "base_uri": "https://localhost:8080/"
        },
        "id": "J6MtX7pkJkob",
        "outputId": "f1ed6a77-98ed-438d-b5fd-74d3a88e33f5"
      },
      "execution_count": null,
      "outputs": [
        {
          "output_type": "stream",
          "name": "stdout",
          "text": [
            "{1: (2, 4, 5), 'Name': 'Face', 4: [5, 7]}\n"
          ]
        }
      ]
    },
    {
      "cell_type": "code",
      "source": [
        "dic=dict({1:[2,4,5],\"Name\":\"FACE\",4:[5,7]})\n",
        "print(dic)"
      ],
      "metadata": {
        "colab": {
          "base_uri": "https://localhost:8080/"
        },
        "id": "l9EsUBApKBBF",
        "outputId": "2f564ef3-4658-4466-a6fd-456e4c448d66"
      },
      "execution_count": null,
      "outputs": [
        {
          "output_type": "stream",
          "name": "stdout",
          "text": [
            "{1: [2, 4, 5], 'Name': 'FACE', 4: [5, 7]}\n"
          ]
        }
      ]
    },
    {
      "cell_type": "code",
      "source": [
        "dic=dict([(1,2),(\"Name\",\"FACE\"),(4,5)])\n",
        "print(dic)"
      ],
      "metadata": {
        "colab": {
          "base_uri": "https://localhost:8080/"
        },
        "id": "UzKExQ1bO53k",
        "outputId": "e505da7d-58fa-4123-c3e6-309d586d907f"
      },
      "execution_count": null,
      "outputs": [
        {
          "output_type": "stream",
          "name": "stdout",
          "text": [
            "{1: 2, 'Name': 'FACE', 4: 5}\n"
          ]
        }
      ]
    },
    {
      "cell_type": "markdown",
      "source": [
        "Creating a Nested Dictionary."
      ],
      "metadata": {
        "id": "BbD5OoKoP6XV"
      }
    },
    {
      "cell_type": "code",
      "source": [
        "dic={1:\"FACE\",2:4,3:{5:\"hello\",6:9.5}}\n",
        "print(dic)"
      ],
      "metadata": {
        "colab": {
          "base_uri": "https://localhost:8080/"
        },
        "id": "kDqQwOfcPkAB",
        "outputId": "9e27b69d-b869-4dba-a531-10485d7a4d7b"
      },
      "execution_count": null,
      "outputs": [
        {
          "output_type": "stream",
          "name": "stdout",
          "text": [
            "{1: 'FACE', 2: 4, 3: {5: 'hello', 6: 9.5}}\n"
          ]
        }
      ]
    },
    {
      "cell_type": "markdown",
      "source": [
        "Adding the elements to a dictionary.  "
      ],
      "metadata": {
        "id": "PSpb0wUAQfIe"
      }
    },
    {
      "cell_type": "code",
      "source": [
        "dic={}\n",
        "dic[0]=\"Apple\"\n",
        "dic[1]=\"Hard\"\n",
        "dic[2]=\"work\"\n",
        "print(dic)"
      ],
      "metadata": {
        "colab": {
          "base_uri": "https://localhost:8080/"
        },
        "id": "VC0Ob5pkQM_x",
        "outputId": "118dbcf6-aea7-43c2-db66-acdf13186938"
      },
      "execution_count": null,
      "outputs": [
        {
          "output_type": "stream",
          "name": "stdout",
          "text": [
            "{0: 'Apple', 1: 'Hard', 2: 'work'}\n"
          ]
        }
      ]
    },
    {
      "cell_type": "code",
      "source": [
        "dic={}\n",
        "dic[0]=\"Apple\"\n",
        "dic[1]=\"Hard\"\n",
        "dic[2]=\"work\"\n",
        "print(dic)\n",
        "dic['new_set']=1,5,8\n",
        "print(dic)"
      ],
      "metadata": {
        "colab": {
          "base_uri": "https://localhost:8080/"
        },
        "id": "XMZVSMTaQuc-",
        "outputId": "dc282aa6-a3bd-4d14-abdd-cbb2f7ab79a7"
      },
      "execution_count": null,
      "outputs": [
        {
          "output_type": "stream",
          "name": "stdout",
          "text": [
            "{0: 'Apple', 1: 'Hard', 2: 'work'}\n",
            "{0: 'Apple', 1: 'Hard', 2: 'work', 'new_set': (1, 5, 8)}\n"
          ]
        }
      ]
    },
    {
      "cell_type": "code",
      "source": [
        "dic[0]=\"Google\"\n",
        "print(dic)"
      ],
      "metadata": {
        "colab": {
          "base_uri": "https://localhost:8080/"
        },
        "id": "iBIdvi8tRKDa",
        "outputId": "2afcdb14-4e52-4f77-f6af-fd804317c87d"
      },
      "execution_count": null,
      "outputs": [
        {
          "output_type": "stream",
          "name": "stdout",
          "text": [
            "{0: 'Google', 1: 'Hard', 2: 'work', 'new_set': (1, 5, 8)}\n"
          ]
        }
      ]
    },
    {
      "cell_type": "markdown",
      "source": [
        "Accessing elements using key."
      ],
      "metadata": {
        "id": "UMg0X7d4Rjv7"
      }
    },
    {
      "cell_type": "code",
      "source": [
        "dic={0: 'Apple', 1: 'Hard', 2: 'work', 'new_set': (1, 5, 8)}\n",
        "print(dic[\"new_set\"])"
      ],
      "metadata": {
        "colab": {
          "base_uri": "https://localhost:8080/"
        },
        "id": "PzGFQVyORfLD",
        "outputId": "f7fce7e9-df19-4fa3-e6a5-d41667db9022"
      },
      "execution_count": null,
      "outputs": [
        {
          "output_type": "stream",
          "name": "stdout",
          "text": [
            "(1, 5, 8)\n"
          ]
        }
      ]
    },
    {
      "cell_type": "markdown",
      "source": [
        "Accessing elements using get()"
      ],
      "metadata": {
        "id": "t6tdhsWER1_p"
      }
    },
    {
      "cell_type": "code",
      "source": [
        "dic={0: 'Apple', 1: 'Hard', 2: 'work', 'new_set': (1, 5, 8)}\n",
        "print(dic.get(\"new_set\"))\n",
        "print(dic.get(1))"
      ],
      "metadata": {
        "colab": {
          "base_uri": "https://localhost:8080/"
        },
        "id": "lzG-wHxYRs_2",
        "outputId": "f4b85d95-c2a5-4cfc-9076-404fa2b9eb6c"
      },
      "execution_count": null,
      "outputs": [
        {
          "output_type": "stream",
          "name": "stdout",
          "text": [
            "(1, 5, 8)\n",
            "Hard\n"
          ]
        }
      ]
    },
    {
      "cell_type": "code",
      "source": [
        "dic={0: 'Apple', 1: 'Hard', 2: 'work', 'new_set': (1, 5, 8)}\n",
        "dic.pop(\"new_set\")\n",
        "print(dic)"
      ],
      "metadata": {
        "colab": {
          "base_uri": "https://localhost:8080/"
        },
        "id": "nAyKDIm0SC4_",
        "outputId": "611c35eb-768d-4ab7-d21a-2149d496b257"
      },
      "execution_count": null,
      "outputs": [
        {
          "output_type": "stream",
          "name": "stdout",
          "text": [
            "{0: 'Apple', 1: 'Hard', 2: 'work'}\n"
          ]
        }
      ]
    },
    {
      "cell_type": "code",
      "source": [
        "del dic[3]\n",
        "print(dic)"
      ],
      "metadata": {
        "colab": {
          "base_uri": "https://localhost:8080/",
          "height": 156
        },
        "id": "DXemlkUKS9LD",
        "outputId": "06ef6253-3eb8-4c92-db3f-390fa71060a4"
      },
      "execution_count": null,
      "outputs": [
        {
          "output_type": "error",
          "ename": "KeyError",
          "evalue": "3",
          "traceback": [
            "\u001b[0;31m---------------------------------------------------------------------------\u001b[0m",
            "\u001b[0;31mKeyError\u001b[0m                                  Traceback (most recent call last)",
            "\u001b[0;32m<ipython-input-22-cb3ff6815659>\u001b[0m in \u001b[0;36m<cell line: 1>\u001b[0;34m()\u001b[0m\n\u001b[0;32m----> 1\u001b[0;31m \u001b[0;32mdel\u001b[0m \u001b[0mdic\u001b[0m\u001b[0;34m[\u001b[0m\u001b[0;36m3\u001b[0m\u001b[0;34m]\u001b[0m\u001b[0;34m\u001b[0m\u001b[0;34m\u001b[0m\u001b[0m\n\u001b[0m\u001b[1;32m      2\u001b[0m \u001b[0mprint\u001b[0m\u001b[0;34m(\u001b[0m\u001b[0mdic\u001b[0m\u001b[0;34m)\u001b[0m\u001b[0;34m\u001b[0m\u001b[0;34m\u001b[0m\u001b[0m\n",
            "\u001b[0;31mKeyError\u001b[0m: 3"
          ]
        }
      ]
    },
    {
      "cell_type": "code",
      "source": [],
      "metadata": {
        "id": "T-f-faxtTFWZ"
      },
      "execution_count": null,
      "outputs": []
    }
  ]
}